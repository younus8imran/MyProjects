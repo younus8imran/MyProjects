{
  "nbformat": 4,
  "nbformat_minor": 0,
  "metadata": {
    "colab": {
      "name": "proj_fashion_mnist_tf2.ipynb",
      "provenance": [],
      "authorship_tag": "ABX9TyOthtlIqz7mfraO97A20E/K",
      "include_colab_link": true
    },
    "kernelspec": {
      "name": "python3",
      "display_name": "Python 3"
    }
  },
  "cells": [
    {
      "cell_type": "markdown",
      "metadata": {
        "id": "view-in-github",
        "colab_type": "text"
      },
      "source": [
        "<a href=\"https://colab.research.google.com/github/younus8imran/MyProjects/blob/master/fashion_mnist_tf2.ipynb\" target=\"_parent\"><img src=\"https://colab.research.google.com/assets/colab-badge.svg\" alt=\"Open In Colab\"/></a>"
      ]
    },
    {
      "cell_type": "markdown",
      "metadata": {
        "id": "To8hXkv9Z0nU",
        "colab_type": "text"
      },
      "source": [
        "## Image Classification on FashionMnist dataset "
      ]
    },
    {
      "cell_type": "markdown",
      "metadata": {
        "id": "fbst71EQe_Su",
        "colab_type": "text"
      },
      "source": [
        "Let's import all the necessary libraries"
      ]
    },
    {
      "cell_type": "code",
      "metadata": {
        "id": "vfSlOMOdZoiq",
        "colab_type": "code",
        "colab": {}
      },
      "source": [
        "import numpy as np\n",
        "import matplotlib.pyplot as plt\n",
        "\n",
        "import tensorflow as tf\n",
        "from tensorflow import keras\n",
        "from tensorflow.keras.models import Sequential\n",
        "from tensorflow.keras.layers import Flatten, Dense, Conv2D\n",
        "from tensorflow.keras.datasets import fashion_mnist"
      ],
      "execution_count": 24,
      "outputs": []
    },
    {
      "cell_type": "markdown",
      "metadata": {
        "id": "tu9WNh_yfHcL",
        "colab_type": "text"
      },
      "source": [
        "We'll load the fashion-mnist dataset "
      ]
    },
    {
      "cell_type": "code",
      "metadata": {
        "id": "RpRD-NOFZ_3g",
        "colab_type": "code",
        "colab": {}
      },
      "source": [
        "data = keras.datasets.fashion_mnist"
      ],
      "execution_count": 6,
      "outputs": []
    },
    {
      "cell_type": "markdown",
      "metadata": {
        "id": "9EMLR3P9fcOc",
        "colab_type": "text"
      },
      "source": [
        "Splitting the data into train and test set"
      ]
    },
    {
      "cell_type": "code",
      "metadata": {
        "id": "uqpNlDttauZR",
        "colab_type": "code",
        "colab": {}
      },
      "source": [
        "(train_images, train_labels), (test_images, test_labels) = data.load_data()"
      ],
      "execution_count": 7,
      "outputs": []
    },
    {
      "cell_type": "markdown",
      "metadata": {
        "id": "rMBHLqFtfy7R",
        "colab_type": "text"
      },
      "source": [
        "Our dataset contains pixel values and the pixel intensities ranges from 0 to 255, let's scale it down in the range 0 to 1  by dividing it by 255 for the sake of computation"
      ]
    },
    {
      "cell_type": "code",
      "metadata": {
        "id": "b1NJjZOLa2qZ",
        "colab_type": "code",
        "colab": {}
      },
      "source": [
        "train_images = train_images / 255.0\n",
        "test_images = test_images / 255.0"
      ],
      "execution_count": 8,
      "outputs": []
    },
    {
      "cell_type": "markdown",
      "metadata": {
        "id": "H4kY67WYgcsQ",
        "colab_type": "text"
      },
      "source": [
        "Output classes of the fashion-mnist dataset"
      ]
    },
    {
      "cell_type": "code",
      "metadata": {
        "id": "TC4smGDabEvk",
        "colab_type": "code",
        "colab": {}
      },
      "source": [
        "classes = ['T-shirt/top', 'Trouser', 'Pullover', 'Dress', \n",
        "           'Coat', 'Sandal', 'Shirt', 'Sneaker', 'Bag', 'Ankle boot']       "
      ],
      "execution_count": 10,
      "outputs": []
    },
    {
      "cell_type": "markdown",
      "metadata": {
        "id": "vjbmu2qVgvCk",
        "colab_type": "text"
      },
      "source": [
        "Now, let's define our model architecture"
      ]
    },
    {
      "cell_type": "code",
      "metadata": {
        "id": "ptYxQ3YIbVKJ",
        "colab_type": "code",
        "colab": {}
      },
      "source": [
        "model = Sequential([\n",
        "                    Flatten(input_shape=(28, 28)),\n",
        "                    Dense(128, activation='relu'),\n",
        "                    Dense(10, activation='softmax')\n",
        "])"
      ],
      "execution_count": 15,
      "outputs": []
    },
    {
      "cell_type": "markdown",
      "metadata": {
        "id": "XYcedLoFg3N0",
        "colab_type": "text"
      },
      "source": [
        "Have a look at the model architecture"
      ]
    },
    {
      "cell_type": "code",
      "metadata": {
        "id": "xv1wGkHFhCgO",
        "colab_type": "code",
        "colab": {
          "base_uri": "https://localhost:8080/",
          "height": 255
        },
        "outputId": "0aacde45-cfcf-4202-adfe-6cc527c76e75"
      },
      "source": [
        "model.summary()"
      ],
      "execution_count": 32,
      "outputs": [
        {
          "output_type": "stream",
          "text": [
            "Model: \"sequential_1\"\n",
            "_________________________________________________________________\n",
            "Layer (type)                 Output Shape              Param #   \n",
            "=================================================================\n",
            "flatten_1 (Flatten)          (None, 784)               0         \n",
            "_________________________________________________________________\n",
            "dense_2 (Dense)              (None, 128)               100480    \n",
            "_________________________________________________________________\n",
            "dense_3 (Dense)              (None, 10)                1290      \n",
            "=================================================================\n",
            "Total params: 101,770\n",
            "Trainable params: 101,770\n",
            "Non-trainable params: 0\n",
            "_________________________________________________________________\n"
          ],
          "name": "stdout"
        }
      ]
    },
    {
      "cell_type": "markdown",
      "metadata": {
        "id": "kn-CtkCNhK80",
        "colab_type": "text"
      },
      "source": [
        "Compile the model, we'll use sparse_categorical_crossentropy and adam optimizer"
      ]
    },
    {
      "cell_type": "code",
      "metadata": {
        "id": "JlWVMaiAb6oI",
        "colab_type": "code",
        "colab": {}
      },
      "source": [
        "model.compile(optimizer='adam', \n",
        "              loss=\"sparse_categorical_crossentropy\", \n",
        "              metrics=['accuracy'])"
      ],
      "execution_count": 16,
      "outputs": []
    },
    {
      "cell_type": "markdown",
      "metadata": {
        "id": "gQ5ovgBNht4D",
        "colab_type": "text"
      },
      "source": [
        "Now, let's train the model on 5 epochs"
      ]
    },
    {
      "cell_type": "code",
      "metadata": {
        "id": "kFva4GsxcPnN",
        "colab_type": "code",
        "colab": {
          "base_uri": "https://localhost:8080/",
          "height": 204
        },
        "outputId": "fc752cb6-dc32-437e-bfa2-e7a705d9c62b"
      },
      "source": [
        "model.fit(train_images, train_labels, epochs=5)"
      ],
      "execution_count": 17,
      "outputs": [
        {
          "output_type": "stream",
          "text": [
            "Epoch 1/5\n",
            "1875/1875 [==============================] - 3s 2ms/step - loss: 0.4955 - accuracy: 0.8258\n",
            "Epoch 2/5\n",
            "1875/1875 [==============================] - 3s 2ms/step - loss: 0.3735 - accuracy: 0.8644\n",
            "Epoch 3/5\n",
            "1875/1875 [==============================] - 3s 2ms/step - loss: 0.3336 - accuracy: 0.8777\n",
            "Epoch 4/5\n",
            "1875/1875 [==============================] - 3s 2ms/step - loss: 0.3111 - accuracy: 0.8845\n",
            "Epoch 5/5\n",
            "1875/1875 [==============================] - 3s 2ms/step - loss: 0.2934 - accuracy: 0.8913\n"
          ],
          "name": "stdout"
        },
        {
          "output_type": "execute_result",
          "data": {
            "text/plain": [
              "<tensorflow.python.keras.callbacks.History at 0x7fd5fc6ae550>"
            ]
          },
          "metadata": {
            "tags": []
          },
          "execution_count": 17
        }
      ]
    },
    {
      "cell_type": "markdown",
      "metadata": {
        "id": "SdJGqj-CiF_4",
        "colab_type": "text"
      },
      "source": [
        "Our model trained with 89.13%\n",
        "accuracy, let's evaluate our model on test set to check the performance of the model on unseen data"
      ]
    },
    {
      "cell_type": "code",
      "metadata": {
        "id": "JhXHiqHMcVWC",
        "colab_type": "code",
        "colab": {
          "base_uri": "https://localhost:8080/",
          "height": 68
        },
        "outputId": "0daf183c-60e8-4733-c2d6-b39f39530f69"
      },
      "source": [
        "test_loss, test_acc = model.evaluate(test_images, test_labels)\n",
        "print('\\nTest Accuracy:', test_acc)"
      ],
      "execution_count": 33,
      "outputs": [
        {
          "output_type": "stream",
          "text": [
            "313/313 [==============================] - 0s 1ms/step - loss: 0.3438 - accuracy: 0.8725\n",
            "\n",
            "Test Accuracy: 0.8725000023841858\n"
          ],
          "name": "stdout"
        }
      ]
    },
    {
      "cell_type": "markdown",
      "metadata": {
        "id": "nH03lmbaiv3X",
        "colab_type": "text"
      },
      "source": [
        "The model performed 87.25% on test set.Let's predict."
      ]
    },
    {
      "cell_type": "code",
      "metadata": {
        "id": "r1hj1J4oculd",
        "colab_type": "code",
        "colab": {
          "base_uri": "https://localhost:8080/",
          "height": 68
        },
        "outputId": "440dae48-e7ac-443d-b5ea-987b61a67738"
      },
      "source": [
        "predictions = model.predict(test_images)"
      ],
      "execution_count": 22,
      "outputs": [
        {
          "output_type": "execute_result",
          "data": {
            "text/plain": [
              "array([1.2179012e-05, 9.4275329e-08, 1.8810084e-07, 3.2724426e-08,\n",
              "       4.5789770e-07, 4.0587899e-03, 2.6902210e-06, 6.0489126e-02,\n",
              "       3.0762942e-05, 9.3540573e-01], dtype=float32)"
            ]
          },
          "metadata": {
            "tags": []
          },
          "execution_count": 22
        }
      ]
    },
    {
      "cell_type": "markdown",
      "metadata": {
        "id": "Vlk0XbtTjP8M",
        "colab_type": "text"
      },
      "source": [
        "The model predicts a set of 10 probabilites(since we're using softmax), the highest of them is the desired prediction."
      ]
    },
    {
      "cell_type": "markdown",
      "metadata": {
        "id": "YwPJZEN7kI5A",
        "colab_type": "text"
      },
      "source": [
        "Since the predictions are in numbers, let's visualize them using matplotlib."
      ]
    },
    {
      "cell_type": "code",
      "metadata": {
        "id": "H_IBpsulc6M5",
        "colab_type": "code",
        "colab": {
          "base_uri": "https://localhost:8080/",
          "height": 1000
        },
        "outputId": "d8f3d813-1125-4eab-f05b-c2b8e131fbb3"
      },
      "source": [
        "plt.figure(figsize=(5, 5))\n",
        "for i in range(5):\n",
        "  plt.grid(False)\n",
        "  plt.imshow(test_images[i], cmap=plt.cm.binary)\n",
        "  plt.xlabel(\"Actual:\" + classes[test_labels[i]])\n",
        "  plt.title(classes[np.argmax(predictions[i])])\n",
        "  plt.show()"
      ],
      "execution_count": 25,
      "outputs": [
        {
          "output_type": "display_data",
          "data": {
            "image/png": "[encoded data removed]",
            "text/plain": [
              "<Figure size 360x360 with 1 Axes>"
            ]
          },
          "metadata": {
            "tags": [],
            "needs_background": "light"
          }
        },
        {
          "output_type": "display_data",
          "data": {
            "image/png": "[encoded data removed]",
            "text/plain": [
              "<Figure size 432x288 with 1 Axes>"
            ]
          },
          "metadata": {
            "tags": [],
            "needs_background": "light"
          }
        },
        {
          "output_type": "display_data",
          "data": {
            "image/png": "[encoded data removed]",
            "text/plain": [
              "<Figure size 432x288 with 1 Axes>"
            ]
          },
          "metadata": {
            "tags": [],
            "needs_background": "light"
          }
        },
        {
          "output_type": "display_data",
          "data": {
            "image/png": "[encoded data removed]",
            "text/plain": [
              "<Figure size 432x288 with 1 Axes>"
            ]
          },
          "metadata": {
            "tags": [],
            "needs_background": "light"
          }
        },
        {
          "output_type": "display_data",
          "data": {
            "image/png": "[encoded data removed]",
            "text/plain": [
              "<Figure size 432x288 with 1 Axes>"
            ]
          },
          "metadata": {
            "tags": [],
            "needs_background": "light"
          }
        }
      ]
    },
    {
      "cell_type": "code",
      "metadata": {
        "id": "NcnzRLypdnF4",
        "colab_type": "code",
        "colab": {
          "base_uri": "https://localhost:8080/",
          "height": 102
        },
        "outputId": "b7d811ba-b83a-4def-9a21-6c735044b9b8"
      },
      "source": [
        "for i  in range(5):\n",
        "  print(\"Actual--> \" + classes[test_labels[i]], '',\n",
        "                               \"Predicted--> \" + classes[np.argmax(predictions[i])])"
      ],
      "execution_count": 29,
      "outputs": [
        {
          "output_type": "stream",
          "text": [
            "Actual--> Ankle boot  Predicted--> Ankle boot\n",
            "Actual--> Pullover  Predicted--> Pullover\n",
            "Actual--> Trouser  Predicted--> Trouser\n",
            "Actual--> Trouser  Predicted--> Trouser\n",
            "Actual--> Shirt  Predicted--> Shirt\n"
          ],
          "name": "stdout"
        }
      ]
    }
  ]
}